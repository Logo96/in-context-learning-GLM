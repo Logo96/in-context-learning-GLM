{
  "cells": [
    {
      "cell_type": "markdown",
      "id": "eaf6a3b9",
      "metadata": {},
      "source": [
        "## 1. Parameters & Imports"
      ]
    },
    {
      "cell_type": "code",
      "execution_count": 51,
      "id": "e823213e",
      "metadata": {},
      "outputs": [
        {
          "name": "stdout",
          "output_type": "stream",
          "text": [
            "Using device: cuda\n"
          ]
        }
      ],
      "source": [
        "# must change\n",
        "repo_id     = \"icl-182/nb-0.32-1.2\"\n",
        "ckpt_name   = \"state.pt\"\n",
        "loss_type   = \"nb\"\n",
        "\n",
        "# Optional if want test generalizaton \n",
        "r_val = 2.5\n",
        "scale = 0.32\n",
        "\n",
        "\n",
        "# fixed params\n",
        "n_tasks     = 10000\n",
        "n_train     = 40\n",
        "lr          = 0.05\n",
        "max_steps   = 100000\n",
        "tol         = 1e-10\n",
        "\n",
        "import os, sys, yaml\n",
        "import torch\n",
        "from torch.nn import PoissonNLLLoss\n",
        "import matplotlib.pyplot as plt\n",
        "%matplotlib inline\n",
        "\n",
        "torch.manual_seed(7)\n",
        "\n",
        "device = torch.device(\"cuda\" if torch.cuda.is_available() else \"cpu\")\n",
        "print(\"Using device:\", device)"
      ]
    },
    {
      "cell_type": "markdown",
      "id": "69e75b13",
      "metadata": {},
      "source": [
        "## 2. Download HF Repo & Load Config"
      ]
    },
    {
      "cell_type": "code",
      "execution_count": 2,
      "id": "e9d840db",
      "metadata": {},
      "outputs": [
        {
          "name": "stdout",
          "output_type": "stream",
          "text": [
            "\u001b[33mWARNING: Running pip as the 'root' user can result in broken permissions and conflicting behaviour with the system package manager. It is recommended to use a virtual environment instead: https://pip.pypa.io/warnings/venv\u001b[0m\n"
          ]
        },
        {
          "data": {
            "application/vnd.jupyter.widget-view+json": {
              "model_id": "785a1349caa44c81a1db264a771414f5",
              "version_major": 2,
              "version_minor": 0
            },
            "text/plain": [
              "Fetching 8 files:   0%|          | 0/8 [00:00<?, ?it/s]"
            ]
          },
          "metadata": {},
          "output_type": "display_data"
        },
        {
          "data": {
            "application/vnd.jupyter.widget-view+json": {
              "model_id": "fcf13835e3a84302bd2c6a12e3754b74",
              "version_major": 2,
              "version_minor": 0
            },
            "text/plain": [
              ".gitattributes:   0%|          | 0.00/1.52k [00:00<?, ?B/s]"
            ]
          },
          "metadata": {},
          "output_type": "display_data"
        },
        {
          "data": {
            "application/vnd.jupyter.widget-view+json": {
              "model_id": "255a42255f6b4464935b04d747407f8f",
              "version_major": 2,
              "version_minor": 0
            },
            "text/plain": [
              "config.yaml:   0%|          | 0.00/820 [00:00<?, ?B/s]"
            ]
          },
          "metadata": {},
          "output_type": "display_data"
        },
        {
          "data": {
            "application/vnd.jupyter.widget-view+json": {
              "model_id": "5f08ab20633a425296347e13f60fdcb3",
              "version_major": 2,
              "version_minor": 0
            },
            "text/plain": [
              "model_10000.pt:   0%|          | 0.00/89.6M [00:00<?, ?B/s]"
            ]
          },
          "metadata": {},
          "output_type": "display_data"
        },
        {
          "data": {
            "application/vnd.jupyter.widget-view+json": {
              "model_id": "8c514aca961848eaac52a7814113496b",
              "version_major": 2,
              "version_minor": 0
            },
            "text/plain": [
              "model_8000.pt:   0%|          | 0.00/89.6M [00:00<?, ?B/s]"
            ]
          },
          "metadata": {},
          "output_type": "display_data"
        },
        {
          "data": {
            "application/vnd.jupyter.widget-view+json": {
              "model_id": "07acdd0248d649d8975dd83d8048e555",
              "version_major": 2,
              "version_minor": 0
            },
            "text/plain": [
              "model_6000.pt:   0%|          | 0.00/89.6M [00:00<?, ?B/s]"
            ]
          },
          "metadata": {},
          "output_type": "display_data"
        },
        {
          "data": {
            "application/vnd.jupyter.widget-view+json": {
              "model_id": "fab0adfd4c2a4e6fb7ab097843152754",
              "version_major": 2,
              "version_minor": 0
            },
            "text/plain": [
              "state.pt:   0%|          | 0.00/166M [00:00<?, ?B/s]"
            ]
          },
          "metadata": {},
          "output_type": "display_data"
        },
        {
          "data": {
            "application/vnd.jupyter.widget-view+json": {
              "model_id": "d1661ad42b664e6e8b5d42dc160456a9",
              "version_major": 2,
              "version_minor": 0
            },
            "text/plain": [
              "model_4000.pt:   0%|          | 0.00/89.6M [00:00<?, ?B/s]"
            ]
          },
          "metadata": {},
          "output_type": "display_data"
        },
        {
          "data": {
            "application/vnd.jupyter.widget-view+json": {
              "model_id": "f275fe8a7cf341aa8a63d8850e68aa03",
              "version_major": 2,
              "version_minor": 0
            },
            "text/plain": [
              "model_2000.pt:   0%|          | 0.00/89.6M [00:00<?, ?B/s]"
            ]
          },
          "metadata": {},
          "output_type": "display_data"
        },
        {
          "name": "stdout",
          "output_type": "stream",
          "text": [
            "Repo downloaded to: /root/.cache/huggingface/hub/models--icl-182--nb-0.32-1.2/snapshots/dae8c2786beca6db8a84fe4ef2fd193c59f5fcf5\n",
            "Config keys: dict_keys(['config', 'model', 'out_dir', 'test_run', 'training', 'wandb'])\n",
            "n_dims=10, scale=0.32, r=1.2\n"
          ]
        }
      ],
      "source": [
        "!pip install -q huggingface_hub\n",
        "\n",
        "from huggingface_hub import snapshot_download\n",
        "from types import SimpleNamespace\n",
        "\n",
        "ckpt_dir = snapshot_download(repo_id, repo_type=\"model\")\n",
        "print(\"Repo downloaded to:\", ckpt_dir)\n",
        "\n",
        "sys.path.append(ckpt_dir)\n",
        "\n",
        "cfg = yaml.safe_load(open(os.path.join(ckpt_dir, \"config.yaml\")))\n",
        "print(\"Config keys:\", cfg.keys())\n",
        "\n",
        "model_conf = SimpleNamespace(**cfg[\"model\"])\n",
        "task_kwargs = cfg[\"training\"][\"task_kwargs\"]\n",
        "scale = task_kwargs.get(\"scaling\", 1.0)\n",
        "r_val = task_kwargs.get(\"r\", None) or r_val\n",
        "n_train = cfg[\"model\"][\"n_positions\"]\n",
        "\n",
        "print(f\"n_dims={model_conf.n_dims}, scale={scale}, r={r_val}\")"
      ]
    },
    {
      "cell_type": "markdown",
      "id": "3c5c0050",
      "metadata": {},
      "source": [
        "## 3. Sampling & Loss Registry"
      ]
    },
    {
      "cell_type": "code",
      "execution_count": 47,
      "id": "ad1a79b2",
      "metadata": {},
      "outputs": [],
      "source": [
        "def sample_data(n_tasks, n_points, d, ws=None, scale=1.0, loss_type=\"poisson\", r=None):\n",
        "    xs = torch.randn(n_tasks, n_points, d, device=device)\n",
        "    if ws is None:\n",
        "        ws = scale * torch.randn(n_tasks, d, 1, device=device)\n",
        "    logits = (xs @ ws).clamp(-4, 4)\n",
        "    mu = torch.exp(logits)\n",
        "\n",
        "    if loss_type == \"poisson\":\n",
        "        ys = torch.poisson(mu).squeeze(-1)\n",
        "    elif loss_type in (\"nb\", \"neg_binomial\"):\n",
        "        r_t = torch.tensor(r, device=device, dtype=mu.dtype)\n",
        "        logits = torch.log(r_t) - torch.log(mu)\n",
        "        dist = torch.distributions.NegativeBinomial(total_count=r_t, logits=logits)\n",
        "        ys = dist.sample().squeeze(-1)\n",
        "    else:\n",
        "        raise ValueError(f\"Unsupported loss_type: {loss_type}\")\n",
        "    return xs, ys, ws\n",
        "\n",
        "LOSS_REGISTRY = {}\n",
        "def register_loss(name):\n",
        "    def deco(fn):\n",
        "        LOSS_REGISTRY[name] = fn\n",
        "        return fn\n",
        "    return deco\n",
        "\n",
        "@register_loss(\"poisson\")\n",
        "def poisson_loss_fn(pred, targets, **kw):\n",
        "    return PoissonNLLLoss(log_input=True, full=True, reduction=\"none\")(pred, targets)\n",
        "\n",
        "@register_loss(\"nb\")\n",
        "def nb_loss_fn(preds, targets, r, **kw):\n",
        "    mu = torch.exp(preds)\n",
        "    r_t = torch.tensor(r, device=mu.device, dtype=mu.dtype)\n",
        "    logits = torch.log(r_t) - torch.log(mu)\n",
        "    dist = torch.distributions.NegativeBinomial(total_count=r_t, logits=logits)\n",
        "    return -dist.log_prob(targets)"
      ]
    },
    {
      "cell_type": "markdown",
      "id": "9dcc9635",
      "metadata": {},
      "source": [
        "## 4. Evaluation Routines"
      ]
    },
    {
      "cell_type": "code",
      "execution_count": 42,
      "id": "444d5cf5",
      "metadata": {},
      "outputs": [],
      "source": [
        "from tqdm import tqdm\n",
        "loss_fn = LOSS_REGISTRY[loss_type]\n",
        "\n",
        "def get_logits(xs, ws):\n",
        "    return (xs @ ws).squeeze(-1).clamp(-4, 4)\n",
        "\n",
        "def evaluate_transformer(model, xs_all, ys_all, loss_type=\"poisson\", r=None):\n",
        "    model.eval()\n",
        "    xs_all, ys_all = xs_all.to(device), ys_all.to(device)\n",
        "    with torch.no_grad():\n",
        "        out = model(xs_all, ys_all)\n",
        "        per_pos = loss_fn(out, ys_all, r=r).mean(dim=0)\n",
        "    return per_pos.cpu().tolist()\n",
        "\n",
        "def evaluate_oracle_gd(xs_all, ys_all, lr, max_steps, tol, scale=None, r=None, loss_type=\"poisson\"):\n",
        "    xs_all, ys_all = xs_all.to(device), ys_all.to(device)\n",
        "    n_tasks, n_points, d = xs_all.shape\n",
        "    all_losses = []\n",
        "    loss_fn = LOSS_REGISTRY[loss_type]\n",
        "    for t in tqdm(range(1, n_points), desc=\"GD Oracle\"):\n",
        "        xs_tr, ys_tr = xs_all[:, :t, :], ys_all[:, :t]\n",
        "        xs_te, ys_te = xs_all[:, t:t+1, :], ys_all[:, t:t+1]\n",
        "\n",
        "        w_hat = torch.randn(n_tasks, d, 1, device=device, requires_grad=True)\n",
        "        opt = torch.optim.Adam([w_hat], lr=lr)\n",
        "        prev = float(\"inf\")\n",
        "        for step in range(max_steps):\n",
        "            logits = get_logits(xs_tr, w_hat)\n",
        "            loss = loss_fn(logits, ys_tr, r=r).mean()\n",
        "            loss = loss + (0.5/scale**2)*w_hat.pow(2).sum()/(n_tasks*t)\n",
        "            if abs(prev - loss.item()) < tol:\n",
        "                break\n",
        "            prev = loss.item()\n",
        "            opt.zero_grad(); loss.backward(); opt.step()\n",
        "\n",
        "        with torch.no_grad():\n",
        "            logits_te = get_logits(xs_te, w_hat)\n",
        "            all_losses.append(loss_fn(logits_te, ys_te, r=r).mean().item())\n",
        "    return all_losses\n",
        "\n",
        "def evaluate_oracle_true(xs_all, ys_all, ws, loss_type=\"poisson\", r=None):\n",
        "    xs_all, ys_all, ws = xs_all.to(device), ys_all.to(device), ws.to(device)\n",
        "    losses = []\n",
        "    for t in range(1, xs_all.shape[1]):\n",
        "        logits = get_logits(xs_all[:, t:t+1, :], ws)\n",
        "        losses.append(loss_fn(logits, ys_all[:, t:t+1], r=r).mean().item())\n",
        "    return losses\n",
        "\n",
        "def evaluate_naive(ys_all):\n",
        "    ys_all = ys_all.to(device)\n",
        "    losses = []\n",
        "    for t in range(1, ys_all.shape[1]):\n",
        "        pred = ys_all[:, :t].mean(dim=1, keepdim=True)\n",
        "        losses.append(loss_fn(torch.log(pred + 1e-4), ys_all[:, t:t+1], r=r_val).mean().item())\n",
        "    return losses"
      ]
    },
    {
      "cell_type": "markdown",
      "id": "8907baec",
      "metadata": {},
      "source": [
        "## 5. Sample Data & Load Model"
      ]
    },
    {
      "cell_type": "code",
      "execution_count": 48,
      "id": "1be19773",
      "metadata": {},
      "outputs": [],
      "source": [
        "xs_all, ys_all, ws_true = sample_data(\n",
        "    n_tasks, n_train, 10, scale=scale, loss_type=loss_type, r=r_val\n",
        ")\n",
        "xs_all, ys_all, ws_true = xs_all.to(device), ys_all.to(device), ws_true.to(device)"
      ]
    },
    {
      "cell_type": "code",
      "execution_count": 6,
      "id": "2f5b5260",
      "metadata": {},
      "outputs": [
        {
          "name": "stdout",
          "output_type": "stream",
          "text": [
            "Loading state.pt\n",
            "Running transformer...\n"
          ]
        }
      ],
      "source": [
        "from models import build_model\n",
        "ckpt_path = os.path.join(ckpt_dir, ckpt_name)\n",
        "state = torch.load(ckpt_path, map_location=device)\n",
        "model = build_model(model_conf).to(device)\n",
        "print(\"Loading\", ckpt_name)\n",
        "model.load_state_dict(state.get(\"model_state_dict\", state))\n",
        "print(\"Running transformer...\")\n",
        "trans_losses = evaluate_transformer(model, xs_all, ys_all, loss_type, r_val)"
      ]
    },
    {
      "cell_type": "markdown",
      "id": "e3c172ac",
      "metadata": {},
      "source": [
        "## 6. Run Baselines & GD‑Oracle"
      ]
    },
    {
      "cell_type": "code",
      "execution_count": 49,
      "id": "a85bfd87",
      "metadata": {},
      "outputs": [
        {
          "name": "stderr",
          "output_type": "stream",
          "text": [
            "GD Oracle: 100%|██████████| 39/39 [00:55<00:00,  1.42s/it]\n"
          ]
        }
      ],
      "source": [
        "# print(\"Running GD‑oracle…\")\n",
        "gd_losses = evaluate_oracle_gd(xs_all, ys_all, lr, max_steps, tol, scale=scale, r=r_val, loss_type=loss_type)\n",
        "# print(\"Running true‑weights oracle…\")\n",
        "# true_losses = evaluate_oracle_true(xs_all, ys_all, ws_true, loss_type, r_val)\n",
        "# print(\"Running naive baseline…\")\n",
        "# naive_losses = evaluate_naive(ys_all)"
      ]
    },
    {
      "cell_type": "code",
      "execution_count": 50,
      "id": "c90e0ae0",
      "metadata": {},
      "outputs": [
        {
          "data": {
            "text/plain": [
              "[4.057886600494385,\n",
              " 4.0271148681640625,\n",
              " 3.9272620677948,\n",
              " 3.6832849979400635,\n",
              " 3.8094286918640137,\n",
              " 3.698178768157959,\n",
              " 3.646193742752075,\n",
              " 3.58614182472229,\n",
              " 3.559831142425537,\n",
              " 3.4596030712127686,\n",
              " 3.408914089202881,\n",
              " 3.3398678302764893,\n",
              " 3.3725874423980713,\n",
              " 3.304672956466675,\n",
              " 3.3102593421936035,\n",
              " 3.2680134773254395,\n",
              " 3.2113020420074463,\n",
              " 3.2391648292541504,\n",
              " 3.199352741241455,\n",
              " 3.1411361694335938,\n",
              " 3.1592893600463867,\n",
              " 3.1767261028289795,\n",
              " 3.1077427864074707,\n",
              " 3.131904363632202,\n",
              " 3.1095550060272217,\n",
              " 3.106755018234253,\n",
              " 3.0937366485595703,\n",
              " 3.0776872634887695,\n",
              " 3.0767807960510254,\n",
              " 3.0784058570861816,\n",
              " 3.0547361373901367,\n",
              " 3.054682970046997,\n",
              " 3.0455002784729004,\n",
              " 3.0223169326782227,\n",
              " 3.061467409133911,\n",
              " 3.0117685794830322,\n",
              " 3.029967784881592,\n",
              " 3.012407064437866,\n",
              " 2.992009401321411]"
            ]
          },
          "execution_count": 50,
          "metadata": {},
          "output_type": "execute_result"
        }
      ],
      "source": [
        "gd_losses"
      ]
    },
    {
      "cell_type": "markdown",
      "id": "5ae27c9b",
      "metadata": {},
      "source": [
        "## 7. Plot All Results"
      ]
    },
    {
      "cell_type": "code",
      "execution_count": 14,
      "id": "f893a5df",
      "metadata": {},
      "outputs": [
        {
          "data": {
            "image/png": "[encoded data removed]",
            "text/plain": [
              "<Figure size 800x500 with 1 Axes>"
            ]
          },
          "metadata": {},
          "output_type": "display_data"
        }
      ],
      "source": [
        "ctx = list(range(1, n_train))\n",
        "plt.figure(figsize=(8,5))\n",
        "plt.plot(ctx, trans_losses[1:], label=\"Transformer\", linewidth=2)\n",
        "plt.plot(ctx, gd_losses,    label=\"Baseline: Gradient Descent\", linestyle=\"--\", linewidth=2)\n",
        "plt.plot(ctx, true_losses,  label=\"Oracle: True‑weights\", linestyle=\":\", linewidth=2)\n",
        "plt.plot(ctx, naive_losses, label=\"Naive: Mean\", linestyle=\"-.\", linewidth=2)\n",
        "plt.xlabel(\"Context length\")\n",
        "plt.ylabel(f\"{loss_type} NLL\")\n",
        "plt.title(f\"Loss vs. Context length (type={loss_type})\")\n",
        "plt.legend(loc=\"upper right\")\n",
        "plt.ylim(1.5, 4)\n",
        "plt.grid(True)\n",
        "plt.tight_layout()\n",
        "plt.show()"
      ]
    },
    {
      "cell_type": "code",
      "execution_count": null,
      "id": "59893e53",
      "metadata": {},
      "outputs": [],
      "source": []
    }
  ],
  "metadata": {
    "kernelspec": {
      "display_name": "icl",
      "language": "python",
      "name": "python3"
    },
    "language_info": {
      "codemirror_mode": {
        "name": "ipython",
        "version": 3
      },
      "file_extension": ".py",
      "mimetype": "text/x-python",
      "name": "python",
      "nbconvert_exporter": "python",
      "pygments_lexer": "ipython3",
      "version": "3.8.12"
    }
  },
  "nbformat": 4,
  "nbformat_minor": 5
}
