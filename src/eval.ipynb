{
  "cells": [
    {
      "cell_type": "markdown",
      "id": "eaf6a3b9",
      "metadata": {},
      "source": [
        "\n",
        "## 1. Parameters & Imports"
      ]
    },
    {
      "cell_type": "code",
      "execution_count": null,
      "id": "e823213e",
      "metadata": {},
      "outputs": [],
      "source": [
        "\n",
        "repo_id     = \"joseph-tennyson/poisson-0.32\"   \n",
        "ckpt_name   = \"state.pt\"              \n",
        "loss_type   = \"nb\"            \n",
        "n_tasks     = 10000\n",
        "n_train     = 40                          \n",
        "lr          = 0.05\n",
        "max_steps   = 100000\n",
        "tol         = 1e-10\n",
        "\n",
        "# can be loaded in from config or set to defaults \n",
        "# especially useful if you want to mix and match train/eval function types \n",
        "r_val = 5\n",
        "scale = 0.32\n",
        "\n",
        "# — Standard imports —\n",
        "import os, sys, yaml\n",
        "import torch\n",
        "from torch.nn import PoissonNLLLoss\n",
        "import matplotlib.pyplot as plt\n",
        "\n",
        "# Make plots inline\n",
        "%matplotlib inline\n",
        "\n",
        "# Device\n",
        "device = \"cuda\" if torch.cuda.is_available() else \"cpu\"\n",
        "print(\"Using device:\", device)"
      ]
    },
    {
      "cell_type": "markdown",
      "id": "69e75b13",
      "metadata": {},
      "source": [
        "## 2. Download HF Repo & Load Config"
      ]
    },
    {
      "cell_type": "code",
      "execution_count": null,
      "id": "e9d840db",
      "metadata": {},
      "outputs": [],
      "source": [
        "!pip install -q huggingface_hub\n",
        "\n",
        "from huggingface_hub import snapshot_download\n",
        "from types import SimpleNamespace\n",
        "\n",
        "# download into a local folder\n",
        "ckpt_dir = snapshot_download(repo_id, repo_type=\"model\")\n",
        "print(\"Repo downloaded to:\", ckpt_dir)\n",
        "\n",
        "sys.path.append(ckpt_dir)\n",
        "\n",
        "cfg = yaml.safe_load(open(os.path.join(ckpt_dir, \"config.yaml\")))\n",
        "print(\"Config keys:\", cfg.keys())\n",
        "\n",
        "model_conf = SimpleNamespace(**cfg[\"model\"])\n",
        "task_kwargs = cfg[\"training\"][\"task_kwargs\"]\n",
        "scale = task_kwargs.get(\"scaling\", 1.0)\n",
        "r_val = task_kwargs.get(\"r\", None) or r_val\n",
        "n_train = cfg[\"model\"][\"n_positions\"]\n",
        "\n",
        "print(f\"n_dims={model_conf.n_dims}, scale={scale}, r={r_val}\")"
      ]
    },
    {
      "cell_type": "markdown",
      "id": "3c5c0050",
      "metadata": {},
      "source": [
        "## 3. Sampling & Loss Registry"
      ]
    },
    {
      "cell_type": "code",
      "execution_count": null,
      "id": "ad1a79b2",
      "metadata": {},
      "outputs": [],
      "source": [
        "def sample_data(n_tasks, n_points, d, ws=None, scale=1.0, loss_type=\"poisson\", r=None):\n",
        "    xs = torch.randn(n_tasks, n_points, d, device=device)\n",
        "    # allow to pass in fixed if desired\n",
        "    if ws is None:\n",
        "        ws = scale * torch.randn(n_tasks, d, 1, device=device)\n",
        "    logits = (xs @ ws).clamp(-4, 4)    # shape: [n_tasks, n_points, 1]\n",
        "    mu = torch.exp(logits)\n",
        "\n",
        "    if loss_type == \"poisson\":\n",
        "        ys = torch.poisson(mu).squeeze(-1)\n",
        "    elif loss_type in (\"nb\", \"neg_binomial\"):\n",
        "        r_t = torch.tensor(r, device=device, dtype=mu.dtype)\n",
        "        logits = torch.log(r_t) - torch.log(mu)\n",
        "        dist = torch.distributions.NegativeBinomial(total_count=r_t, logits=logits)\n",
        "        ys = dist.sample().squeeze(-1)\n",
        "    else:\n",
        "        raise ValueError(f\"Unsupported loss_type: {loss_type}\")\n",
        "    return xs, ys, ws\n",
        "\n",
        "# registry for your model's NLL\n",
        "LOSS_REGISTRY = {}\n",
        "def register_loss(name):\n",
        "    def deco(fn):\n",
        "        LOSS_REGISTRY[name] = fn\n",
        "        return fn\n",
        "    return deco\n",
        "\n",
        "@register_loss(\"poisson\")\n",
        "def poisson_loss_fn(pred, targets, **kw):\n",
        "    return PoissonNLLLoss(log_input=True, full=True, reduction=\"none\")(pred, targets)\n",
        "\n",
        "@register_loss(\"nb\")\n",
        "def nb_loss_fn(preds, targets, r, **kw):\n",
        "    mu = torch.exp(preds)\n",
        "    r_t = torch.tensor(r, device=mu.device, dtype=mu.dtype)\n",
        "    logits = torch.log(r_t) - torch.log(mu)\n",
        "    dist = torch.distributions.NegativeBinomial(total_count=r_t, logits=logits)\n",
        "    return -dist.log_prob(targets)"
      ]
    },
    {
      "cell_type": "markdown",
      "id": "9dcc9635",
      "metadata": {},
      "source": [
        "## 4. Evaluation Routines"
      ]
    },
    {
      "cell_type": "code",
      "execution_count": null,
      "id": "444d5cf5",
      "metadata": {},
      "outputs": [],
      "source": [
        "from tqdm import tqdm\n",
        "loss_fn = LOSS_REGISTRY[loss_type]\n",
        "\n",
        "def get_logits(xs, ws):\n",
        "    logits = (xs @ ws).squeeze(-1).clamp(-4, 4)\n",
        "    return logits\n",
        "\n",
        "# 4.1 Transformer evaluation\n",
        "def evaluate_transformer(model, xs_all, ys_all, loss_type=\"poisson\", r=None):\n",
        "    model.eval()\n",
        "    with torch.no_grad():\n",
        "        out = model(xs_all, ys_all)   \n",
        "        per_pos = loss_fn(out, ys_all, r=r).mean(dim=0)\n",
        "    return per_pos.cpu().tolist()\n",
        "\n",
        "# 4.2 Gradient‑descent oracle (re-fit per context length)\n",
        "def evaluate_oracle_gd(xs_all, ys_all, lr, max_steps, tol, scale=1.0, r=None, loss_type=\"poisson\"):\n",
        "    n_tasks, n_points, d = xs_all.shape\n",
        "    all_losses = []\n",
        "    loss_fn = LOSS_REGISTRY[loss_type]\n",
        "    for t in tqdm(range(1, n_points), desc=\"GD Oracle\"):\n",
        "        xs_tr = xs_all[:, :t, :]\n",
        "        ys_tr = ys_all[:, :t]\n",
        "        xs_te = xs_all[:, t:t+1, :]\n",
        "        ys_te = ys_all[:, t:t+1]\n",
        "\n",
        "        w_hat = torch.randn(n_tasks, d, 1, device=device, requires_grad=True)\n",
        "        opt = torch.optim.Adam([w_hat], lr=lr)\n",
        "        prev = float(\"inf\")\n",
        "        for step in range(max_steps):\n",
        "            logits = get_logits(xs_tr, w_hat)\n",
        "            loss = loss_fn(logits, ys_tr, r=r).mean()\n",
        "            loss = loss + (0.5/scale**2)*w_hat.pow(2).sum()/(n_tasks*t)\n",
        "            if abs(prev - loss.item()) < tol:\n",
        "                break\n",
        "            prev = loss.item()\n",
        "            opt.zero_grad(); loss.backward(); opt.step()\n",
        "\n",
        "        with torch.no_grad():\n",
        "            logits_te = get_logits(xs_te, w_hat)\n",
        "            loss_te = loss_fn(logits_te, ys_te, r=r).mean().item()\n",
        "        all_losses.append(loss_te)\n",
        "    return all_losses\n",
        "\n",
        "# 4.3 True‑weights oracle\n",
        "def evaluate_oracle_true(xs_all, ys_all, ws, loss_type=\"poisson\", r=None):\n",
        "    n_tasks, n_points, _ = xs_all.shape\n",
        "    losses = []\n",
        "    for t in range(1, n_points):\n",
        "        x_te = xs_all[:, t:t+1, :]\n",
        "        y_te = ys_all[:, t:t+1]\n",
        "        logits = get_logits(x_te, ws)\n",
        "        loss = loss_fn(logits, y_te, r=r).mean()\n",
        "        losses.append(loss.item())\n",
        "    return losses\n",
        "\n",
        "# 4.4 Naive‑mean baseline\n",
        "def evaluate_naive(ys_all):\n",
        "    _, n_points = ys_all.shape\n",
        "    losses = []\n",
        "    for t in range(1, n_points):\n",
        "        y_tr = ys_all[:, :t]\n",
        "        y_te = ys_all[:, t:t+1]\n",
        "        pred = y_tr.mean(dim=1, keepdim=True)\n",
        "        print(pred.min(), pred.max())\n",
        "        # loss_func expects log input \n",
        "        eps = 0.0001\n",
        "        loss = loss_fn(torch.log(pred + eps), y_te).mean().item()\n",
        "        losses.append(loss)\n",
        "    return losses"
      ]
    },
    {
      "cell_type": "markdown",
      "id": "8907baec",
      "metadata": {},
      "source": [
        "## 5. Sample Data & Load Model"
      ]
    },
    {
      "cell_type": "code",
      "execution_count": null,
      "id": "1be19773",
      "metadata": {},
      "outputs": [],
      "source": [
        "xs_all, ys_all, ws_true = sample_data(\n",
        "    n_tasks,\n",
        "    n_train,\n",
        "    10,\n",
        "    scale=scale,\n",
        "    loss_type=loss_type,\n",
        "    r=r_val\n",
        ")\n",
        "xs_all, ys_all = xs_all.to(device), ys_all.to(device)\n"
      ]
    },
    {
      "cell_type": "code",
      "execution_count": null,
      "id": "2f5b5260",
      "metadata": {},
      "outputs": [],
      "source": [
        "from models import build_model\n",
        "\n",
        "ckpt_path = os.path.join(ckpt_dir, ckpt_name)\n",
        "state = torch.load(ckpt_path, map_location=device)\n",
        "model = build_model(model_conf).to(device)\n",
        "print(\"Loading\", ckpt_name)\n",
        "model.load_state_dict(state.get(\"model_state_dict\", state))\n",
        "\n",
        "print(\"Running transformer...\")\n",
        "trans_losses = evaluate_transformer(model, xs_all, ys_all, loss_type, r_val)"
      ]
    },
    {
      "cell_type": "markdown",
      "id": "e3c172ac",
      "metadata": {},
      "source": [
        "## 6. Run Baselines & GD‑Oracle"
      ]
    },
    {
      "cell_type": "code",
      "execution_count": null,
      "id": "a85bfd87",
      "metadata": {},
      "outputs": [],
      "source": [
        "print(\"Running GD‑oracle…\")\n",
        "gd_losses  = evaluate_oracle_gd(\n",
        "    xs_all, ys_all, lr, max_steps, tol,\n",
        "    scale=scale, r=r_val, loss_type=loss_type\n",
        ")\n",
        "\n",
        "print(\"Running true‑weights oracle…\")\n",
        "true_losses  = evaluate_oracle_true(xs_all, ys_all, ws_true, loss_type, r_val)\n",
        "\n",
        "print(\"Running naive baseline…\")\n",
        "naive_losses = evaluate_naive(ys_all.cpu())"
      ]
    },
    {
      "cell_type": "markdown",
      "id": "5ae27c9b",
      "metadata": {},
      "source": [
        "## 7. Plot All Results"
      ]
    },
    {
      "cell_type": "code",
      "execution_count": null,
      "id": "f893a5df",
      "metadata": {},
      "outputs": [],
      "source": [
        "x_label = \"Context length\"\n",
        "y_label = f\"{loss_type} Loss\"\n",
        "title = f\"Loss vs. Context length (type={loss_type})\"\n",
        "\n",
        "ctx = list(range(1, n_train))\n",
        "plt.figure(figsize=(8,5))\n",
        "plt.plot(ctx, trans_losses[1:], label=\"Transformer\", linewidth=2)\n",
        "plt.plot(ctx, gd_losses,    label=\"Baseline: Gradient Descent\", linestyle=\"--\", linewidth=2)\n",
        "plt.plot(ctx, true_losses,  label=\"Oracle: True‑weights\", linestyle=\":\", linewidth=2)\n",
        "plt.plot(ctx, naive_losses, label=\"Naive: Mean\", linestyle=\"-.\", linewidth=2)\n",
        "\n",
        "plt.xlabel(\"Context length\")\n",
        "plt.ylabel(f\"{loss_type} NLL\")\n",
        "plt.title(f\"Loss vs. Context length (type={loss_type})\")\n",
        "plt.legend(loc=\"upper right\")\n",
        "plt.ylim(1.0, 3)\n",
        "plt.grid(True)\n",
        "plt.tight_layout()\n",
        "plt.show()"
      ]
    },
    {
      "cell_type": "code",
      "execution_count": null,
      "id": "eed742e4",
      "metadata": {},
      "outputs": [],
      "source": []
    }
  ],
  "metadata": {
    "kernelspec": {
      "display_name": "icl",
      "language": "python",
      "name": "python3"
    },
    "language_info": {
      "codemirror_mode": {
        "name": "ipython",
        "version": 3
      },
      "file_extension": ".py",
      "mimetype": "text/x-python",
      "name": "python",
      "nbconvert_exporter": "python",
      "pygments_lexer": "ipython3",
      "version": "3.8.12"
    }
  },
  "nbformat": 4,
  "nbformat_minor": 5
}
