{
 "cells": [
  {
   "cell_type": "code",
   "execution_count": 2,
   "id": "49b03b35",
   "metadata": {},
   "outputs": [
    {
     "data": {
      "application/vnd.jupyter.widget-view+json": {
       "model_id": "b4927af8c2e14efa893448fc06bc452b",
       "version_major": 2,
       "version_minor": 0
      },
      "text/plain": [
       "model_2000.pt:   0%|          | 0.00/89.6M [00:00<?, ?B/s]"
      ]
     },
     "metadata": {},
     "output_type": "display_data"
    },
    {
     "data": {
      "application/vnd.jupyter.widget-view+json": {
       "model_id": "4cba0244531c4cf1822bd95577e20c35",
       "version_major": 2,
       "version_minor": 0
      },
      "text/plain": [
       "Upload 5 LFS files:   0%|          | 0/5 [00:00<?, ?it/s]"
      ]
     },
     "metadata": {},
     "output_type": "display_data"
    },
    {
     "data": {
      "application/vnd.jupyter.widget-view+json": {
       "model_id": "ca0adec341d04f2aa0617614dc6f2e62",
       "version_major": 2,
       "version_minor": 0
      },
      "text/plain": [
       "model_4000.pt:   0%|          | 0.00/89.6M [00:00<?, ?B/s]"
      ]
     },
     "metadata": {},
     "output_type": "display_data"
    },
    {
     "data": {
      "application/vnd.jupyter.widget-view+json": {
       "model_id": "e0d55e2d82a04b80b6e9291941584ca2",
       "version_major": 2,
       "version_minor": 0
      },
      "text/plain": [
       "state.pt:   0%|          | 0.00/166M [00:00<?, ?B/s]"
      ]
     },
     "metadata": {},
     "output_type": "display_data"
    },
    {
     "data": {
      "application/vnd.jupyter.widget-view+json": {
       "model_id": "c0a0551591964c93b01d67b0ce0ecc02",
       "version_major": 2,
       "version_minor": 0
      },
      "text/plain": [
       "model_6000.pt:   0%|          | 0.00/89.6M [00:00<?, ?B/s]"
      ]
     },
     "metadata": {},
     "output_type": "display_data"
    },
    {
     "data": {
      "application/vnd.jupyter.widget-view+json": {
       "model_id": "50bd16f4f40b4e848650dbd91b5ec136",
       "version_major": 2,
       "version_minor": 0
      },
      "text/plain": [
       "model_8000.pt:   0%|          | 0.00/89.6M [00:00<?, ?B/s]"
      ]
     },
     "metadata": {},
     "output_type": "display_data"
    },
    {
     "data": {
      "text/plain": [
       "CommitInfo(commit_url='https://huggingface.co/icl-182/nb-0.32-5.0/commit/1dccc82d206fed26d945d2ee26277ed53d6f7415', commit_message='Upload folder using huggingface_hub', commit_description='', oid='1dccc82d206fed26d945d2ee26277ed53d6f7415', pr_url=None, repo_url=RepoUrl('https://huggingface.co/icl-182/nb-0.32-5.0', endpoint='https://huggingface.co', repo_type='model', repo_id='icl-182/nb-0.32-5.0'), pr_revision=None, pr_num=None)"
      ]
     },
     "execution_count": 2,
     "metadata": {},
     "output_type": "execute_result"
    }
   ],
   "source": [
    "from huggingface_hub import create_repo, upload_folder\n",
    "\n",
    "repo_name = \"nb-0.32-5.0\"\n",
    "\n",
    "repo_id = f\"icl-182/{repo_name}\" \n",
    "local_dir = f\"/root/in-context-learning-GLM/models/{repo_name}\"\n",
    "\n",
    "create_repo(repo_id=repo_id, repo_type=\"model\", exist_ok=True)\n",
    "\n",
    "upload_folder(folder_path=local_dir, repo_id=repo_id, repo_type=\"model\")"
   ]
  },
  {
   "cell_type": "code",
   "execution_count": null,
   "id": "4eb63abc",
   "metadata": {},
   "outputs": [],
   "source": []
  }
 ],
 "metadata": {
  "kernelspec": {
   "display_name": "icl",
   "language": "python",
   "name": "python3"
  },
  "language_info": {
   "codemirror_mode": {
    "name": "ipython",
    "version": 3
   },
   "file_extension": ".py",
   "mimetype": "text/x-python",
   "name": "python",
   "nbconvert_exporter": "python",
   "pygments_lexer": "ipython3",
   "version": "3.8.12"
  }
 },
 "nbformat": 4,
 "nbformat_minor": 5
}
