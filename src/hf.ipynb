{
 "cells": [
  {
   "cell_type": "code",
   "execution_count": 2,
   "id": "49b03b35",
   "metadata": {},
   "outputs": [
    {
     "data": {
      "application/vnd.jupyter.widget-view+json": {
       "model_id": "fa7b0ee1fd0e4388a6676f4e0b68d076",
       "version_major": 2,
       "version_minor": 0
      },
      "text/plain": [
       "model_50000.pt:   0%|          | 0.00/89.6M [00:00<?, ?B/s]"
      ]
     },
     "metadata": {},
     "output_type": "display_data"
    },
    {
     "data": {
      "application/vnd.jupyter.widget-view+json": {
       "model_id": "54bf369c44e34939a489e397fdac57e3",
       "version_major": 2,
       "version_minor": 0
      },
      "text/plain": [
       "state.pt:   0%|          | 0.00/166M [00:00<?, ?B/s]"
      ]
     },
     "metadata": {},
     "output_type": "display_data"
    },
    {
     "data": {
      "application/vnd.jupyter.widget-view+json": {
       "model_id": "12f397930bad4870a0e71fd5f1028436",
       "version_major": 2,
       "version_minor": 0
      },
      "text/plain": [
       "Upload 2 LFS files:   0%|          | 0/2 [00:00<?, ?it/s]"
      ]
     },
     "metadata": {},
     "output_type": "display_data"
    },
    {
     "data": {
      "text/plain": [
       "CommitInfo(commit_url='https://huggingface.co/icl-182/joint-0.32-1.2/commit/4289c3caf8c70fd7038bfd2a3e070beac200dce1', commit_message='Upload folder using huggingface_hub', commit_description='', oid='4289c3caf8c70fd7038bfd2a3e070beac200dce1', pr_url=None, repo_url=RepoUrl('https://huggingface.co/icl-182/joint-0.32-1.2', endpoint='https://huggingface.co', repo_type='model', repo_id='icl-182/joint-0.32-1.2'), pr_revision=None, pr_num=None)"
      ]
     },
     "execution_count": 2,
     "metadata": {},
     "output_type": "execute_result"
    }
   ],
   "source": [
    "from huggingface_hub import create_repo, upload_folder\n",
    "\n",
    "repo_name = \"joint-0.32-1.2\"\n",
    "\n",
    "repo_id = f\"icl-182/{repo_name}\" \n",
    "local_dir = f\"/root/in-context-learning-GLM/models/{repo_name}\"\n",
    "\n",
    "create_repo(repo_id=repo_id, repo_type=\"model\", exist_ok=True)\n",
    "\n",
    "upload_folder(folder_path=local_dir, repo_id=repo_id, repo_type=\"model\")"
   ]
  },
  {
   "cell_type": "code",
   "execution_count": null,
   "id": "81f568de",
   "metadata": {},
   "outputs": [],
   "source": []
  }
 ],
 "metadata": {
  "kernelspec": {
   "display_name": "icl",
   "language": "python",
   "name": "python3"
  },
  "language_info": {
   "codemirror_mode": {
    "name": "ipython",
    "version": 3
   },
   "file_extension": ".py",
   "mimetype": "text/x-python",
   "name": "python",
   "nbconvert_exporter": "python",
   "pygments_lexer": "ipython3",
   "version": "3.8.12"
  }
 },
 "nbformat": 4,
 "nbformat_minor": 5
}
