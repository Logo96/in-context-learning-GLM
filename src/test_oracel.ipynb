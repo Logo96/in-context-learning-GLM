{
 "cells": [
  {
   "cell_type": "code",
   "execution_count": 91,
   "id": "748cde5e",
   "metadata": {},
   "outputs": [],
   "source": [
    "import torch\n",
    "from torch.nn import PoissonNLLLoss\n",
    "n_tasks = 10000\n",
    "n_train = 40\n",
    "lr = 0.05\n",
    "max_steps = 10000\n",
    "tol = 1e-10\n",
    "torch.manual_seed(0)\n",
    "\n",
    "device = \"cuda\" if torch.cuda.is_available() else \"cpu\"\n"
   ]
  },
  {
   "cell_type": "code",
   "execution_count": 22,
   "id": "b17c91cc",
   "metadata": {},
   "outputs": [],
   "source": [
    "def sample_data(n_tasks, n_points, d, ws = None, scale=0.32, loss_type=\"poisson\", r=None):\n",
    "    xs = torch.randn(n_tasks, n_points, d)\n",
    "    if not isinstance(ws, torch.Tensor):\n",
    "        ws = scale * torch.randn(n_tasks, d, 1)\n",
    "    logits = xs @ ws\n",
    "    mu = torch.exp(logits.clamp(-4, 4))  # shape: [n_tasks, n_points, 1]\n",
    "\n",
    "    if loss_type == \"poisson\":\n",
    "        ys = torch.poisson(mu).squeeze(-1)\n",
    "\n",
    "    elif loss_type == \"nb\":\n",
    "        # r is a scalar or float constant\n",
    "        r_tensor = torch.tensor(r, dtype=mu.dtype, device=mu.device)\n",
    "        probs = r_tensor / (r_tensor + mu)\n",
    "        dist_nb = torch.distributions.NegativeBinomial(total_count=r_tensor, probs=probs)\n",
    "        ys = dist_nb.sample().squeeze(-1)\n",
    "\n",
    "    else:\n",
    "        raise ValueError(f\"Unsupported data_type: {loss_type}. Use 'poisson' or 'neg_binomial'.\")\n",
    "\n",
    "    return xs, ys, ws"
   ]
  },
  {
   "cell_type": "code",
   "execution_count": 3,
   "id": "58d212b1",
   "metadata": {},
   "outputs": [
    {
     "name": "stdout",
     "output_type": "stream",
     "text": [
      "xs_all.shape: torch.Size([10000, 40, 10])\n",
      "ys_all.shape: torch.Size([10000, 40])\n",
      "ws.shape: torch.Size([10000, 10, 1])\n"
     ]
    }
   ],
   "source": [
    "xs_all, ys_all, ws = sample_data(n_tasks, 40, 10, scale=0.32, loss_type=\"poisson\", r=1)\n",
    "print(f\"xs_all.shape: {xs_all.shape}\")\n",
    "print(f\"ys_all.shape: {ys_all.shape}\")\n",
    "print(f\"ws.shape: {ws.shape}\")"
   ]
  },
  {
   "cell_type": "code",
   "execution_count": 23,
   "id": "85089420",
   "metadata": {},
   "outputs": [],
   "source": [
    "LOSS_REGISTRY = {}\n",
    "\n",
    "def register_loss(name):\n",
    "    def decorator(fn):\n",
    "        LOSS_REGISTRY[name] = fn\n",
    "        return fn\n",
    "    return decorator\n",
    "\n",
    "@register_loss('poisson')\n",
    "def poisson_loss(pred, targets, **kwargs):\n",
    "    return PoissonNLLLoss(log_input=True, full=True, reduction='none')(pred, targets)\n",
    "\n",
    "\n",
    "@register_loss('nb')\n",
    "def nb_nll_loss(preds, targets, r):\n",
    "    mu = torch.exp(preds)  \n",
    "    r = torch.tensor(r, device=mu.device, dtype=mu.dtype, requires_grad=False)  \n",
    "    probs = r / (r + mu)\n",
    "    dist = torch.distributions.NegativeBinomial(total_count=r, probs=probs)\n",
    "    return -dist.log_prob(targets)\n",
    "\n",
    "\n"
   ]
  },
  {
   "cell_type": "code",
   "execution_count": 90,
   "id": "0a656dbb",
   "metadata": {},
   "outputs": [
    {
     "name": "stdout",
     "output_type": "stream",
     "text": [
      "[Context 39] Converged at step 353\n",
      "poisson 1.5345919132232666 1.6080386638641357\n"
     ]
    },
    {
     "data": {
      "text/plain": [
       "1.5345919132232666"
      ]
     },
     "execution_count": 90,
     "metadata": {},
     "output_type": "execute_result"
    }
   ],
   "source": [
    "import torch\n",
    "from torch.nn import PoissonNLLLoss\n",
    "from tqdm import tqdm\n",
    "\n",
    "def run_oracle_on_random_context(context_len, n_tasks, d, lr, max_steps, tol, device=\"cuda\", scale=0.32, r=None, loss_type=\"poisson\", compare_loss=None):\n",
    "    xs_all, ys_all, ws = sample_data(n_tasks, context_len, d, scale=scale, loss_type=loss_type, r=r)\n",
    "\n",
    "    # Evaluate only at max context size (i.e., context_len - 1)\n",
    "    t = context_len - 1\n",
    "    xs_train = xs_all[:, :t, :].to(device)\n",
    "    ys_train = ys_all[:, :t].to(device)\n",
    "    xs_test = xs_all[:, t:t+1, :].to(device)\n",
    "    ys_test = ys_all[:, t:t+1].to(device)\n",
    "\n",
    "    loss_fn = LOSS_REGISTRY[loss_type]\n",
    "\n",
    "    w_hat = torch.randn(n_tasks, d, 1, device=device, requires_grad=True)\n",
    "    opt = torch.optim.Adam([w_hat], lr=lr)\n",
    "\n",
    "    prev = float(\"inf\")\n",
    "    for step in range(1, max_steps + 1):\n",
    "        logits = (xs_train @ w_hat).squeeze(-1).clamp(min=-4, max=4)\n",
    "        pred = logits\n",
    "        loss = loss_fn(pred, ys_train, r=r).mean()\n",
    "        \n",
    "        l2_penalty = (0.5 / scale**2) * w_hat.pow(2).sum() / (n_tasks * t) \n",
    "        loss += l2_penalty\n",
    "    \n",
    "        \n",
    "        if abs(prev - loss.item()) < tol:\n",
    "            print(f\"[Context {t}] Converged at step {step}\")\n",
    "            break\n",
    "        prev = loss.item()\n",
    "        opt.zero_grad()\n",
    "        loss.backward()\n",
    "        opt.step()\n",
    "    else:\n",
    "        print(f\"[Context {t}] DID NOT converge (final Δloss={abs(prev - loss.item()):.2e})\")\n",
    "\n",
    "        \n",
    "    with torch.no_grad():\n",
    "        logits_test = (xs_test @ w_hat).squeeze(-1).clamp(min=-4, max=4)\n",
    "        pred_test = logits_test\n",
    "        loss = loss_fn(pred_test, ys_test, r=r)\n",
    "        print(loss_type, loss.mean().item(), loss.std().item())\n",
    "    \n",
    "    if compare_loss:\n",
    "        xs_all, ys_all, _ = sample_data(n_tasks, context_len, d, scale=scale, loss_type=compare_loss, ws=ws, r=r)\n",
    "        t = context_len - 1\n",
    "        xs_train = xs_all[:, :t, :].to(device)\n",
    "        ys_train = ys_all[:, :t].to(device)\n",
    "        xs_test = xs_all[:, t:t+1, :].to(device)\n",
    "        ys_test = ys_all[:, t:t+1].to(device)\n",
    "        \n",
    "        with torch.no_grad():\n",
    "            logits_test = (xs_test @ w_hat).squeeze(-1).clamp(min=-4, max=4)\n",
    "            pred_test = logits_test\n",
    "            comp_loss = LOSS_REGISTRY[compare_loss](pred_test, ys_test, r=r)\n",
    "            print(compare_loss, comp_loss.mean().item(), comp_loss.std().item())\n",
    "\n",
    "    \n",
    "    \n",
    "    return loss.mean().item()\n",
    "\n",
    "\n",
    "\n",
    "run_oracle_on_random_context(context_len = 40, n_tasks=8000, d=10, lr=0.025, max_steps=10000, \n",
    "                             tol=1e-10, scale=0.32, r = 2, device=device, loss_type=\"poisson\", compare_loss=None)"
   ]
  },
  {
   "cell_type": "code",
   "execution_count": 85,
   "id": "66fb7c32",
   "metadata": {},
   "outputs": [
    {
     "name": "stdout",
     "output_type": "stream",
     "text": [
      "poisson oracle (mean prediction): mean loss = 1.3270, std = 0.8670\n"
     ]
    },
    {
     "data": {
      "text/plain": [
       "1.3270297050476074"
      ]
     },
     "execution_count": 85,
     "metadata": {},
     "output_type": "execute_result"
    }
   ],
   "source": [
    "def oracle_with_true_weights(context_len, n_tasks, d, scale=0.32, r=None, loss_type=\"poisson\", device=\"cuda\"):\n",
    "    xs_all, ys_all, ws = sample_data(n_tasks, context_len, d, scale=scale, loss_type=loss_type, r=r)\n",
    "\n",
    "    t = context_len - 1\n",
    "    xs_test = xs_all[:, t:t+1, :].to(device)\n",
    "    ys_test = ys_all[:, t:t+1].to(device)\n",
    "    ws = ws.to(device)\n",
    "\n",
    "    with torch.no_grad():\n",
    "        logits = (xs_test @ ws).squeeze(-1).clamp(min=-4, max=4)  # log(mu)\n",
    "        if loss_type == \"poisson\":\n",
    "            pred = logits\n",
    "            loss_fn = PoissonNLLLoss(log_input=True, full=True, reduction='none')\n",
    "            loss = loss_fn(pred, ys_test)\n",
    "\n",
    "        elif loss_type == \"nb\":\n",
    "            mu = torch.exp(logits)  # since logits = log(mu)\n",
    "            r_tensor = torch.tensor(r, device=mu.device, dtype=mu.dtype)\n",
    "            probs = r_tensor / (r_tensor + mu)\n",
    "            dist = torch.distributions.NegativeBinomial(total_count=r_tensor, probs=probs)\n",
    "            loss = -dist.log_prob(ys_test)\n",
    "\n",
    "        else:\n",
    "            raise ValueError(f\"Unsupported loss_type: {loss_type}\")\n",
    "\n",
    "        print(f\"{loss_type} oracle (mean prediction): mean loss = {loss.mean().item():.4f}, std = {loss.std().item():.4f}\")\n",
    "        return loss.mean().item()\n",
    "oracle_with_true_weights(d=10, context_len=20, n_tasks=10000, scale=0.32, r=1.2, loss_type=\"poisson\", device=device)"
   ]
  },
  {
   "cell_type": "code",
   "execution_count": 55,
   "id": "d0893847",
   "metadata": {},
   "outputs": [
    {
     "data": {
      "image/png": "[encoded data removed]",
      "text/plain": [
       "<Figure size 1000x600 with 1 Axes>"
      ]
     },
     "metadata": {},
     "output_type": "display_data"
    }
   ],
   "source": [
    "import torch\n",
    "import matplotlib.pyplot as plt\n",
    "import seaborn as sns\n",
    "\n",
    "def sample_and_plot_distributions(n_samples=10000, d=10, scale_poisson=2, r_nb=2, scale_nb=2):\n",
    "    # --- Generate inputs ---\n",
    "    xs = torch.randn(n_samples, d)\n",
    "\n",
    "    # --- Poisson sampling ---\n",
    "    ws_poisson = scale_poisson * torch.randn(d, 1)\n",
    "    logits_poisson = xs @ ws_poisson\n",
    "    mu_poisson = torch.exp(logits_poisson.clamp(-4,4)).squeeze()\n",
    "    poisson_samples = torch.poisson(mu_poisson).cpu().numpy()\n",
    "\n",
    "    # --- Negative Binomial sampling ---\n",
    "    ws_nb = scale_nb * torch.randn(d, 1)\n",
    "    logits_nb_input = xs @ ws_nb\n",
    "    mu_nb = torch.exp(logits_nb_input.clamp(-4,4)).squeeze()\n",
    "    r_tensor = torch.tensor(r_nb, dtype=mu_nb.dtype, device=mu_nb.device)\n",
    "    probs = r_tensor / (r_tensor + mu_nb)\n",
    "    dist_nb = torch.distributions.NegativeBinomial(total_count=r_tensor, probs=probs)\n",
    "    nb_samples = dist_nb.sample().cpu().numpy()\n",
    "\n",
    "    # --- Plotting ---\n",
    "    plt.figure(figsize=(10, 6))\n",
    "    sns.histplot(poisson_samples, bins=50, color='blue', label=f'Poisson (scale={scale_poisson})',\n",
    "                 stat='density', element='step', fill=False)\n",
    "    sns.histplot(nb_samples, bins=50, color='red', label=f'NegBinom (r={r_nb}, scale={scale_nb})',\n",
    "                 stat='density', element='step', fill=False)\n",
    "    plt.title(\"Sampled Distributions: Poisson vs Negative Binomial\")\n",
    "    plt.xlabel(\"Sampled Count\")\n",
    "    plt.ylabel(\"Density\")\n",
    "    plt.legend()\n",
    "    plt.grid(True)\n",
    "    plt.tight_layout()\n",
    "    plt.show()\n",
    "sample_and_plot_distributions(n_samples = 10000, scale_poisson=0.32, scale_nb=0.32, r_nb=1.15)\n"
   ]
  },
  {
   "cell_type": "code",
   "execution_count": null,
   "id": "b51f6e85",
   "metadata": {},
   "outputs": [],
   "source": []
  },
  {
   "cell_type": "code",
   "execution_count": null,
   "id": "810be168",
   "metadata": {},
   "outputs": [],
   "source": []
  }
 ],
 "metadata": {
  "kernelspec": {
   "display_name": "icl",
   "language": "python",
   "name": "python3"
  },
  "language_info": {
   "codemirror_mode": {
    "name": "ipython",
    "version": 3
   },
   "file_extension": ".py",
   "mimetype": "text/x-python",
   "name": "python",
   "nbconvert_exporter": "python",
   "pygments_lexer": "ipython3",
   "version": "3.8.12"
  }
 },
 "nbformat": 4,
 "nbformat_minor": 5
}
